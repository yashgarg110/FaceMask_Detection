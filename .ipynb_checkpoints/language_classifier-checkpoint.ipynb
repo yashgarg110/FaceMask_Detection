{
 "cells": [
  {
   "cell_type": "code",
   "execution_count": null,
   "id": "73ce8605-b716-47d9-93cf-0a50fcf72419",
   "metadata": {},
   "outputs": [],
   "source": [
    "pip install -U scikit-learn"
   ]
  },
  {
   "cell_type": "code",
   "execution_count": null,
   "id": "0e154eaf-87bd-4b05-ad66-cc20633634d9",
   "metadata": {},
   "outputs": [],
   "source": [
    "\n",
    "import numpy as np \n",
    "import pandas as pd\n",
    "from sklearn.feature_extraction.text import CountVectorizer\n",
    "from sklearn.model_selection import train_test_split\n",
    "from sklearn.naive_bayes import MultinomialNB"
   ]
  },
  {
   "cell_type": "code",
   "execution_count": null,
   "id": "36abdc9e-2828-43b9-85a7-4b9dde9da119",
   "metadata": {},
   "outputs": [],
   "source": [
    "data = pd.read_csv(\"Language Detection.csv\")\n",
    "data.head(3)\n",
    "data\n"
   ]
  },
  {
   "cell_type": "code",
   "execution_count": null,
   "id": "04c5080e-418f-4b50-ba5c-d1e2b9e227f5",
   "metadata": {},
   "outputs": [],
   "source": [
    "x = np.array(data[\"Text\"])\n",
    "y = np.array(data[\"Language\"])\n",
    "x,y"
   ]
  },
  {
   "cell_type": "code",
   "execution_count": null,
   "id": "9bca734f-ba91-47ba-a392-9b54d637f3c3",
   "metadata": {},
   "outputs": [],
   "source": [
    "cv = CountVectorizer()\n",
    "X = cv.fit_transform(x).toarray()\n"
   ]
  },
  {
   "cell_type": "code",
   "execution_count": null,
   "id": "8d96f6dd-6785-4050-8859-e53f210d3e97",
   "metadata": {},
   "outputs": [],
   "source": [
    "print(X)"
   ]
  },
  {
   "cell_type": "code",
   "execution_count": null,
   "id": "41048f00-30bd-4091-bd01-2efb9b7a9e2c",
   "metadata": {},
   "outputs": [],
   "source": [
    "x_train, x_test, y_train, y_test = train_test_split(X,y, test_size = 0.2, random_state = 42) "
   ]
  },
  {
   "cell_type": "code",
   "execution_count": null,
   "id": "88a1382b-c710-4c4f-88e8-78ee4b3536a7",
   "metadata": {},
   "outputs": [],
   "source": [
    "model = MultinomialNB()\n",
    "model.fit(x_train,y_train) "
   ]
  },
  {
   "cell_type": "code",
   "execution_count": null,
   "id": "1db334fd-3d99-4e52-8d1d-fde8cad72a08",
   "metadata": {},
   "outputs": [],
   "source": [
    "model.score(x_test, y_test)"
   ]
  },
  {
   "cell_type": "code",
   "execution_count": null,
   "id": "34800afe-b11e-45e3-aeee-b41c3d39a3da",
   "metadata": {},
   "outputs": [],
   "source": []
  }
 ],
 "metadata": {
  "kernelspec": {
   "display_name": "Python [conda env:venv]",
   "language": "python",
   "name": "conda-env-venv-py"
  },
  "language_info": {
   "codemirror_mode": {
    "name": "ipython",
    "version": 3
   },
   "file_extension": ".py",
   "mimetype": "text/x-python",
   "name": "python",
   "nbconvert_exporter": "python",
   "pygments_lexer": "ipython3",
   "version": "3.12.0"
  }
 },
 "nbformat": 4,
 "nbformat_minor": 5
}
